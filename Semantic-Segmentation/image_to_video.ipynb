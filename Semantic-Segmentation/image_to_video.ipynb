{
 "cells": [
  {
   "cell_type": "code",
   "execution_count": 2,
   "metadata": {},
   "outputs": [],
   "source": [
    "from moviepy.editor import ImageSequenceClip\n",
    "def image_to_video(images_folder):\n",
    "    clip = ImageSequenceClip(images_folder, load_images=True, fps=5)\n",
    "    clip.write_videofile('result.mp4')"
   ]
  },
  {
   "cell_type": "code",
   "execution_count": 3,
   "metadata": {},
   "outputs": [
    {
     "name": "stdout",
     "output_type": "stream",
     "text": [
      "[MoviePy] >>>> Building video result.mp4\n",
      "[MoviePy] Writing video result.mp4\n"
     ]
    },
    {
     "name": "stderr",
     "output_type": "stream",
     "text": [
      "100%|██████████| 291/291 [00:02<00:00, 145.06it/s]\n"
     ]
    },
    {
     "name": "stdout",
     "output_type": "stream",
     "text": [
      "[MoviePy] Done.\n",
      "[MoviePy] >>>> Video ready: result.mp4 \n",
      "\n"
     ]
    }
   ],
   "source": [
    "images_folder = \"runs/\"\n",
    "# file_name = \"result.gif\"\n",
    "image_to_video(images_folder)"
   ]
  },
  {
   "cell_type": "code",
   "execution_count": null,
   "metadata": {},
   "outputs": [],
   "source": [
    "def image_to_gif(images_folder, file_name):\n",
    "    clip = ImageSequenceClip(images_folder, load_images=True, fps=5)\n",
    "    clip.write_gif(file_name,fps=5)\n",
    "\n",
    "if __name__ == '__main__':\n",
    "    images_folder = \"runs/\"\n",
    "    file_name = \"result.gif\"\n",
    "    image_to_gif(images_folder, file_name)"
   ]
  }
 ],
 "metadata": {
  "kernelspec": {
   "display_name": "Python 3",
   "language": "python",
   "name": "python3"
  },
  "language_info": {
   "codemirror_mode": {
    "name": "ipython",
    "version": 3
   },
   "file_extension": ".py",
   "mimetype": "text/x-python",
   "name": "python",
   "nbconvert_exporter": "python",
   "pygments_lexer": "ipython3",
   "version": "3.6.0"
  }
 },
 "nbformat": 4,
 "nbformat_minor": 2
}
