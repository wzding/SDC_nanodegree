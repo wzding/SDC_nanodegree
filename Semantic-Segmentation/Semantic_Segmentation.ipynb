{
 "cells": [
  {
   "cell_type": "raw",
   "metadata": {},
   "source": [
    "<script>\n",
    "  jQuery(document).ready(function($) {  \n",
    "  \n",
    "  $(window).on('load', function(){\n",
    "    $('#preloader').fadeOut('slow',function(){$(this).remove();});\n",
    "  });\n",
    "  \n",
    "  });\n",
    "</script>\n",
    "\n",
    "<style type=\"text/css\">\n",
    "  div#preloader { position: fixed; \n",
    "      left: 0; \n",
    "      top: 0; \n",
    "      z-index: 999; \n",
    "      width: 100%; \n",
    "      height: 100%; \n",
    "      overflow: visible; \n",
    "      background: #fff url('http://preloaders.net/preloaders/720/Moving%20line.gif') no-repeat center center; \n",
    "  }\n",
    "\n",
    "</style>\n",
    "\n",
    "<div id=\"preloader\">\n",
    "\n",
    "</div>"
   ]
  },
  {
   "cell_type": "raw",
   "metadata": {},
   "source": [
    "<script>\n",
    "  function code_toggle() {\n",
    "    if (code_shown){\n",
    "      $('div.input').hide('500');\n",
    "      $('#toggleButton').val('Show Code')\n",
    "    } else {\n",
    "      $('div.input').show('500');\n",
    "      $('#toggleButton').val('Hide Code')\n",
    "    }\n",
    "    code_shown = !code_shown\n",
    "  } \n",
    "  \n",
    "  $( document ).ready(function(){\n",
    "    code_shown=false; \n",
    "    $('div.input').hide()\n",
    "  });\n",
    "</script>\n",
    "<form action=\"javascript:code_toggle()\"><input type=\"submit\" id=\"toggleButton\" value=\"Show Code\"></form>"
   ]
  },
  {
   "cell_type": "markdown",
   "metadata": {},
   "source": [
    "# Semantic Segmentation\n",
    "\n",
    "### by Wenzhe Ding"
   ]
  },
  {
   "cell_type": "markdown",
   "metadata": {},
   "source": [
    "Semantic Segmentation refers to the task of assigning meaning to an object. We could using semantic segmentation to assign **each pixel** to a target class such as road, car, pedestrain, traffic sign, or any number of other classes.\n",
    "\n",
    "![Semantic Segmentation](https://github.com/wzding/Self_Driving_Car_Nanodegree/blob/master/Semantic-Segmentation/images/semantic_segmentation.png?raw=true)\n",
    "\n",
    "In this project, we'll label the pixels of a road in images using a Fully Convolutional Network (FCN). "
   ]
  },
  {
   "cell_type": "markdown",
   "metadata": {},
   "source": [
    "## Table of contents\n",
    "- [Fully Convolutional Networks](#FCN)\n",
    "- [Implementation](#Implementation)\n",
    "- [Create a video from output images](#Video)"
   ]
  },
  {
   "cell_type": "code",
   "execution_count": 12,
   "metadata": {},
   "outputs": [],
   "source": [
    "import os.path\n",
    "import tensorflow as tf\n",
    "import helper\n",
    "import warnings\n",
    "from distutils.version import LooseVersion\n",
    "import project_tests as tests\n",
    "import matplotlib.pyplot as plt\n",
    "\n",
    "%matplotlib inline\n",
    "plt.style.use('ggplot')"
   ]
  },
  {
   "cell_type": "markdown",
   "metadata": {},
   "source": [
    "----\n",
    "<a id='FCN'></a>\n",
    "## Fully Convolutional Networks\n",
    "[[ go back to the top ]](#Table-of-contents)\n",
    "\n",
    "\n",
    "We’ll discuss the [FCN-8 architecture developed at Berkeley](https://people.eecs.berkeley.edu/~jonlong/long_shelhamer_fcn.pdf). In fact, many FCN models are derived from this FCN-8 implementation. There are four steps of a FCN model.\n",
    "\n",
    "1. Encoder. The encoder for FCN-8 is the VGG16 model pretrained on ImageNet for classification. The fully-connected layers are replaced by 1-by-1 convolutions. \n",
    "2. Decoder. We need to upsample the input to the original image size. The shape of the tensor after the final convolutional transpose layer will be 4-dimensional: (batch_size, original_height, original_width, num_classes). \n",
    "3. Skip Connections. We combine the output of two layers. The first output is the output of the current layer. The second output is the output of a layer further back in the network, typically a pooling layer.\n",
    "4. define a loss. Using cross entropy loss, we can approach training a FCN just like we would approach training a normal classification CNN."
   ]
  },
  {
   "cell_type": "markdown",
   "metadata": {},
   "source": [
    "----\n",
    "<a id='Implementation'></a>\n",
    "## Implementation\n",
    "[[ go back to the top ]](#Table-of-contents)\n",
    "\n",
    "We use [Kitti Road dataset](http://www.cvlibs.net/datasets/kitti/eval_road.php) for this project, the dataset can be downloaded [here](https://s3-us-west-1.amazonaws.com/udacity-selfdrivingcar/advanced_deep_learning/data_road.zip).\n",
    "Note that it's better to use a GPU for this project. We use a pretrained VGG Model and cross entropy loss as the loss function for this project. "
   ]
  },
  {
   "cell_type": "code",
   "execution_count": 23,
   "metadata": {},
   "outputs": [],
   "source": [
    "# Check TensorFlow Version\n",
    "assert LooseVersion(tf.__version__) >= LooseVersion('1.0'), 'Please use TensorFlow version 1.0 or newer.  You are using {}'.format(tf.__version__)\n",
    "print('TensorFlow Version: {}'.format(tf.__version__))"
   ]
  },
  {
   "cell_type": "code",
   "execution_count": 24,
   "metadata": {},
   "outputs": [],
   "source": [
    "# Check for a GPU\n",
    "if not tf.test.gpu_device_name():\n",
    "    warnings.warn('No GPU found. Please use a GPU to train your neural network.')\n",
    "else:\n",
    "    print('Default GPU Device: {}'.format(tf.test.gpu_device_name()))"
   ]
  },
  {
   "cell_type": "code",
   "execution_count": 14,
   "metadata": {},
   "outputs": [
    {
     "name": "stdout",
     "output_type": "stream",
     "text": [
      "Tests Passed\n"
     ]
    }
   ],
   "source": [
    "def load_vgg(sess, vgg_path):\n",
    "    \"\"\"\n",
    "    Load Pretrained VGG Model into TensorFlow.\n",
    "    :param sess: TensorFlow Session\n",
    "    :param vgg_path: Path to vgg folder, containing \"variables/\" and \"saved_model.pb\"\n",
    "    :return: Tuple of Tensors from VGG model (image_input, keep_prob, layer3_out, layer4_out, layer7_out)\n",
    "    \"\"\"\n",
    "    # Done: Implement function\n",
    "    #   Use tf.saved_model.loader.load to load the model and weights\n",
    "    vgg_tag = 'vgg16'\n",
    "    vgg_input_tensor_name = 'image_input:0'\n",
    "    vgg_keep_prob_tensor_name = 'keep_prob:0'\n",
    "    vgg_layer3_out_tensor_name = 'layer3_out:0'\n",
    "    vgg_layer4_out_tensor_name = 'layer4_out:0'\n",
    "    vgg_layer7_out_tensor_name = 'layer7_out:0'\n",
    "    tf.saved_model.loader.load(sess, [vgg_tag], vgg_path)\n",
    "    graph = tf.get_default_graph()\n",
    "    image_input = graph.get_tensor_by_name(vgg_input_tensor_name)\n",
    "    keep_prob = graph.get_tensor_by_name(vgg_keep_prob_tensor_name)\n",
    "    layer3_out = graph.get_tensor_by_name(vgg_layer3_out_tensor_name)\n",
    "    layer4_out = graph.get_tensor_by_name(vgg_layer4_out_tensor_name)\n",
    "    layer7_out = graph.get_tensor_by_name(vgg_layer7_out_tensor_name)\n",
    "    return image_input, keep_prob, layer3_out, layer4_out, layer7_out\n",
    "tests.test_load_vgg(load_vgg, tf)"
   ]
  },
  {
   "cell_type": "code",
   "execution_count": 15,
   "metadata": {},
   "outputs": [
    {
     "name": "stdout",
     "output_type": "stream",
     "text": [
      "Tests Passed\n"
     ]
    }
   ],
   "source": [
    "def layers(vgg_layer3_out, vgg_layer4_out, vgg_layer7_out, num_classes):\n",
    "    \"\"\"\n",
    "    Create the layers for a fully convolutional network.  Build skip-layers using the vgg layers.\n",
    "    :param vgg_layer3_out: TF Tensor for VGG Layer 3 output\n",
    "    :param vgg_layer4_out: TF Tensor for VGG Layer 4 output\n",
    "    :param vgg_layer7_out: TF Tensor for VGG Layer 7 output\n",
    "    :param num_classes: Number of classes to classify\n",
    "    :return: The Tensor for the last layer of output\n",
    "    \"\"\"\n",
    "    std = 1e-3\n",
    "    regularizer = 1e-3\n",
    "    # DONE: Implement function\n",
    "    conv_1x1_1st = tf.layers.conv2d(vgg_layer7_out, num_classes, 1, 1,\n",
    "                                  padding='same',\n",
    "                                  kernel_initializer = tf.random_normal_initializer(stddev=std),\n",
    "                                  kernel_regularizer=tf.contrib.layers.l2_regularizer(regularizer))\n",
    "    upsamplex2_1st = tf.layers.conv2d_transpose(conv_1x1_1st, num_classes, 4, 2,\n",
    "                                              padding= 'same',\n",
    "                                              kernel_initializer = tf.random_normal_initializer(stddev=std),\n",
    "                                              kernel_regularizer=tf.contrib.layers.l2_regularizer(regularizer))\n",
    "    conv_1x1_2nd = tf.layers.conv2d(vgg_layer4_out, num_classes, 1, 1,\n",
    "                                  padding = 'same',\n",
    "                                  kernel_initializer = tf.random_normal_initializer(stddev=std),\n",
    "                                  kernel_regularizer=tf.contrib.layers.l2_regularizer(regularizer))\n",
    "    # Adding skip layer.\n",
    "    skip_1st = tf.add(upsamplex2_1st, conv_1x1_2nd)\n",
    "    # Upsample deconvolutions x 2.\n",
    "    upsamplex2_2nd = tf.layers.conv2d_transpose(skip_1st,\n",
    "                                                num_classes,\n",
    "                                                4, 2,\n",
    "                                                padding= 'same',\n",
    "                                                kernel_initializer = tf.random_normal_initializer(stddev=std),\n",
    "                                                kernel_regularizer= tf.contrib.layers.l2_regularizer(regularizer))\n",
    "    conv_1x1_3rd = tf.layers.conv2d(vgg_layer3_out,\n",
    "                                    num_classes, 1, 1,\n",
    "                                    padding = 'same',\n",
    "                                    kernel_initializer = tf.random_normal_initializer(stddev=std),\n",
    "                                    kernel_regularizer= tf.contrib.layers.l2_regularizer(regularizer))\n",
    "    # Adding skip layer.\n",
    "    skip_2nd = tf.add(upsamplex2_2nd, conv_1x1_3rd)\n",
    "    # Upsample deconvolution x 8.\n",
    "    upsamplex8_3rd = tf.layers.conv2d_transpose(skip_2nd,\n",
    "                                                num_classes, 16, 8,\n",
    "                                                padding= 'same',\n",
    "                                                kernel_initializer = tf.random_normal_initializer(stddev=std),\n",
    "                                                kernel_regularizer= tf.contrib.layers.l2_regularizer(regularizer))\n",
    "    return upsamplex8_3rd\n",
    "tests.test_layers(layers)"
   ]
  },
  {
   "cell_type": "code",
   "execution_count": 16,
   "metadata": {},
   "outputs": [
    {
     "name": "stdout",
     "output_type": "stream",
     "text": [
      "WARNING:tensorflow:From <ipython-input-16-5b5b1add19c5>:16: softmax_cross_entropy_with_logits (from tensorflow.python.ops.nn_ops) is deprecated and will be removed in a future version.\n",
      "Instructions for updating:\n",
      "\n",
      "Future major versions of TensorFlow will allow gradients to flow\n",
      "into the labels input on backprop by default.\n",
      "\n",
      "See @{tf.nn.softmax_cross_entropy_with_logits_v2}.\n",
      "\n",
      "Tests Passed\n"
     ]
    }
   ],
   "source": [
    "def optimize(nn_last_layer, correct_label, learning_rate, num_classes):\n",
    "    \"\"\"\n",
    "    Build the TensorFLow loss and optimizer operations.\n",
    "    :param nn_last_layer: TF Tensor of the last layer in the neural network\n",
    "    :param correct_label: TF Placeholder for the correct label image\n",
    "    :param learning_rate: TF Placeholder for the learning rate\n",
    "    :param num_classes: Number of classes to classify\n",
    "    :return: Tuple of (logits, train_op, cross_entropy_loss)\n",
    "    \"\"\"\n",
    "    # DONE: Implement function\n",
    "    logits = tf.reshape(nn_last_layer, (-1, num_classes))\n",
    "    correct_label = tf.reshape(correct_label, (-1, num_classes))\n",
    "    # loss function.\n",
    "    cross_entropy_loss = tf.reduce_mean(\n",
    "        tf.nn.softmax_cross_entropy_with_logits(logits=logits,\n",
    "                                                labels=correct_label))\n",
    "    # Define optimizer. Adam in this case to have variable learning rate.\n",
    "    optimizer = tf.train.AdamOptimizer(learning_rate)\n",
    "    # Apply optimizer to the loss function.\n",
    "    train_op = optimizer.minimize(cross_entropy_loss)\n",
    "    return logits, train_op, cross_entropy_loss\n",
    "tests.test_optimize(optimize)"
   ]
  },
  {
   "cell_type": "code",
   "execution_count": 17,
   "metadata": {},
   "outputs": [],
   "source": [
    "def train_nn(sess, epochs, batch_size, get_batches_fn, train_op, cross_entropy_loss, input_image,\n",
    "             correct_label, keep_prob, learning_rate):\n",
    "    \"\"\"\n",
    "    Train neural network and print out the loss during training.\n",
    "    :param sess: TF Session\n",
    "    :param epochs: Number of epochs\n",
    "    :param batch_size: Batch size\n",
    "    :param get_batches_fn: Function to get batches of training data.  Call using get_batches_fn(batch_size)\n",
    "    :param train_op: TF Operation to train the neural network\n",
    "    :param cross_entropy_loss: TF Tensor for the amount of loss\n",
    "    :param input_image: TF Placeholder for input images\n",
    "    :param correct_label: TF Placeholder for label images\n",
    "    :param keep_prob: TF Placeholder for dropout keep probability\n",
    "    :param learning_rate: TF Placeholder for learning rate\n",
    "    \"\"\"\n",
    "    # Done: Implement function\n",
    "    sess.run(tf.global_variables_initializer())\n",
    "    print('Starting training ...')\n",
    "    for epc in range(epochs):\n",
    "        print('Epoch : {}'.format(epc + 1))\n",
    "        loss_log = []\n",
    "        for image, label in get_batches_fn(batch_size):\n",
    "            __, loss = sess.run([train_op, cross_entropy_loss],\n",
    "                                feed_dict={\n",
    "                                    input_image: image,\n",
    "                                    correct_label: label,\n",
    "                                    keep_prob: 0.5,\n",
    "                                    learning_rate: 0.00001})\n",
    "            # print(__, loss)\n",
    "            loss_log.append(loss)\n",
    "        print(\"Losses are\", loss_log)\n",
    "    print('Finished traning')\n",
    "\n",
    "tests.test_train_nn(train_nn)\n"
   ]
  },
  {
   "cell_type": "code",
   "execution_count": 22,
   "metadata": {},
   "outputs": [],
   "source": [
    "num_classes = 2\n",
    "image_shape = (160, 576)\n",
    "data_dir = './data'\n",
    "runs_dir = './runs'\n",
    "tests.test_for_kitti_dataset(data_dir)"
   ]
  },
  {
   "cell_type": "code",
   "execution_count": 21,
   "metadata": {},
   "outputs": [],
   "source": [
    "# Download pretrained vgg model\n",
    "helper.maybe_download_pretrained_vgg(data_dir)\n",
    "\n",
    "with tf.Session() as sess:\n",
    "    # Path to vgg model\n",
    "    vgg_path = os.path.join(data_dir, 'vgg')\n",
    "    # Create function to get batches\n",
    "    get_batches_fn = helper.gen_batch_function(os.path.join(data_dir, 'training'), image_shape)\n",
    "\n",
    "    # OPTIONAL: Augment Images for better results\n",
    "    #  https://datascience.stackexchange.com/questions/5224/how-to-prepare-augment-images-for-neural-network\n",
    "\n",
    "    # DONE: Build NN using load_vgg, layers, and optimize function\n",
    "    correct_label = tf.placeholder(tf.int32, [None, None, None, num_classes], name='correct_label')\n",
    "    learning_rate = tf.placeholder(tf.float32, name='learning_rate')\n",
    "    input_image, keep_prob, layer3_out, layer4_out, layer7_out = load_vgg(sess, vgg_path)\n",
    "    # Creating new layers.\n",
    "    layer_output = layers(layer3_out, layer4_out, layer7_out, num_classes)\n",
    "    # Creating loss and optimizer operations.\n",
    "    logits, train_op, cross_entropy_loss = optimize(layer_output, correct_label, learning_rate, num_classes)\n",
    "\n",
    "    # DONE: Train NN using the train_nn function\n",
    "    epochs = 48 # 6 12 24\n",
    "    batch_size = 5\n",
    "    train_nn(sess, epochs, batch_size, get_batches_fn, train_op, cross_entropy_loss, input_image,\n",
    "             correct_label, keep_prob, learning_rate)\n",
    "\n",
    "    # DONE: Save inference data using helper.save_inference_samples\n",
    "    helper.save_inference_samples(runs_dir, data_dir, sess, image_shape, logits, keep_prob, input_image)"
   ]
  },
  {
   "cell_type": "markdown",
   "metadata": {},
   "source": [
    "One sample output is shown below. It is clear that the edge of the road is detected in pixels."
   ]
  },
  {
   "cell_type": "code",
   "execution_count": 13,
   "metadata": {},
   "outputs": [
    {
     "data": {
      "text/plain": [
       "<matplotlib.image.AxesImage at 0x1248f2588>"
      ]
     },
     "execution_count": 13,
     "metadata": {},
     "output_type": "execute_result"
    },
    {
     "data": {
      "image/png": "[encoded data removed]",
      "text/plain": [
       "<Figure size 432x288 with 1 Axes>"
      ]
     },
     "metadata": {},
     "output_type": "display_data"
    }
   ],
   "source": [
    "from PIL import Image\n",
    "image = Image.open(runs_dir + '/um_000000.png')\n",
    "plt.imshow(image) "
   ]
  },
  {
   "cell_type": "markdown",
   "metadata": {},
   "source": [
    "----\n",
    "<a id='Video'></a>\n",
    "## Create a video from output images\n",
    "[[ go back to the top ]](#Table-of-contents)\n",
    "\n",
    "\n",
    "Finally run our pipeline on this short video below."
   ]
  },
  {
   "cell_type": "code",
   "execution_count": 1,
   "metadata": {},
   "outputs": [],
   "source": [
    "# Import everything needed to edit/save/watch video clips\n",
    "from moviepy.editor import VideoFileClip\n",
    "from IPython.display import HTML"
   ]
  },
  {
   "cell_type": "code",
   "execution_count": 19,
   "metadata": {},
   "outputs": [],
   "source": [
    "def image_to_video(images_folder):\n",
    "    clip = ImageSequenceClip(images_folder, load_images=True, fps=5)\n",
    "    clip.write_videofile('semantic_segmentation_result.mp4')"
   ]
  },
  {
   "cell_type": "code",
   "execution_count": 20,
   "metadata": {},
   "outputs": [],
   "source": [
    "images_folder = \"runs/\"\n",
    "image_to_video(images_folder)"
   ]
  },
  {
   "cell_type": "markdown",
   "metadata": {},
   "source": [
    "Run an object detection pipeline on the above clip using MobileNet SSD."
   ]
  },
  {
   "cell_type": "code",
   "execution_count": 2,
   "metadata": {
    "scrolled": false
   },
   "outputs": [
    {
     "data": {
      "text/html": [
       "\n",
       "<video width=\"960\" height=\"600\" controls>\n",
       "  <source src=\"https://github.com/wzding/Self_Driving_Car_Nanodegree/raw/master/Semantic-Segmentation/result.mp4\" type=\"video/mp4\">\n",
       "</video>\n"
      ],
      "text/plain": [
       "<IPython.core.display.HTML object>"
      ]
     },
     "execution_count": 2,
     "metadata": {},
     "output_type": "execute_result"
    }
   ],
   "source": [
    "HTML(\"\"\"\n",
    "<video width=\"960\" height=\"600\" controls>\n",
    "  <source src=\"{0}\" type=\"video/mp4\">\n",
    "</video>\n",
    "\"\"\".format('https://github.com/wzding/Self_Driving_Car_Nanodegree/raw/master/Semantic-Segmentation/result.mp4'))"
   ]
  },
  {
   "cell_type": "code",
   "execution_count": null,
   "metadata": {
    "collapsed": true
   },
   "outputs": [],
   "source": []
  }
 ],
 "metadata": {
  "kernelspec": {
   "display_name": "Python 3",
   "language": "python",
   "name": "python3"
  },
  "language_info": {
   "codemirror_mode": {
    "name": "ipython",
    "version": 3
   },
   "file_extension": ".py",
   "mimetype": "text/x-python",
   "name": "python",
   "nbconvert_exporter": "python",
   "pygments_lexer": "ipython3",
   "version": "3.6.0"
  }
 },
 "nbformat": 4,
 "nbformat_minor": 2
}
