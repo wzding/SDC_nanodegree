{
 "cells": [
  {
   "cell_type": "code",
   "execution_count": 1,
   "metadata": {},
   "outputs": [],
   "source": [
    "import csv\n",
    "import cv2\n",
    "import numpy as np"
   ]
  },
  {
   "cell_type": "code",
   "execution_count": 2,
   "metadata": {},
   "outputs": [
    {
     "name": "stderr",
     "output_type": "stream",
     "text": [
      "Using TensorFlow backend.\n"
     ]
    }
   ],
   "source": [
    "from keras.models import Sequential, Model\n",
    "from keras.layers import Flatten, Dense, Lambda, Convolution2D\n",
    "from keras.layers.pooling import MaxPooling2D"
   ]
  },
  {
   "cell_type": "code",
   "execution_count": 3,
   "metadata": {},
   "outputs": [],
   "source": [
    "lines = []\n",
    "with open('CarND-Behavioral-Cloning-P3/data/driving_log.csv') as file:\n",
    "    reader = csv.reader(file)\n",
    "    next(file, None)\n",
    "    for line in reader:\n",
    "        lines.append(line)\n",
    "        "
   ]
  },
  {
   "cell_type": "code",
   "execution_count": 4,
   "metadata": {},
   "outputs": [],
   "source": [
    "images = []\n",
    "measurements = []\n",
    "for line in lines[1:] :\n",
    "    source_path = line[0]\n",
    "    filename = source_path.split(\"/\")[-1]\n",
    "    current_path = 'CarND-Behavioral-Cloning-P3/data/IMG/' + filename\n",
    "    image = cv2.imread(current_path)\n",
    "    images.append(image)\n",
    "    measurement = float(line[3])\n",
    "    measurements.append(measurement)"
   ]
  },
  {
   "cell_type": "code",
   "execution_count": 5,
   "metadata": {},
   "outputs": [],
   "source": [
    "X_train = np.array(images)\n",
    "y_train = np.array(measurements)"
   ]
  },
  {
   "cell_type": "code",
   "execution_count": 6,
   "metadata": {},
   "outputs": [
    {
     "data": {
      "text/plain": [
       "(8035, 160, 320, 3)"
      ]
     },
     "execution_count": 6,
     "metadata": {},
     "output_type": "execute_result"
    }
   ],
   "source": [
    "X_train.shape"
   ]
  },
  {
   "cell_type": "code",
   "execution_count": 7,
   "metadata": {},
   "outputs": [],
   "source": [
    "# set up lambda layer\n",
    "model = Sequential()\n",
    "model.add(Lambda(lambda x: (x / 255.0) - 0.5, input_shape=(160,320,3)))\n",
    "model.add(Convolution2D(6,5,5,activation=\"relu\"))\n",
    "model.add(MaxPooling2D())\n",
    "model.add(Flatten())\n",
    "model.add(Dense(120))\n",
    "model.add(Dense(84))\n",
    "model.add(Dense(1))\n"
   ]
  },
  {
   "cell_type": "code",
   "execution_count": 8,
   "metadata": {},
   "outputs": [
    {
     "name": "stdout",
     "output_type": "stream",
     "text": [
      "Train on 6428 samples, validate on 1607 samples\n",
      "Epoch 1/5\n",
      "6428/6428 [==============================] - 178s - loss: 46.2662 - val_loss: 0.0205\n",
      "Epoch 2/5\n",
      "6428/6428 [==============================] - 175s - loss: 0.0163 - val_loss: 0.0160\n",
      "Epoch 3/5\n",
      "6428/6428 [==============================] - 175s - loss: 0.0121 - val_loss: 0.0137\n",
      "Epoch 4/5\n",
      "6428/6428 [==============================] - 176s - loss: 0.0103 - val_loss: 0.0129\n",
      "Epoch 5/5\n",
      "6428/6428 [==============================] - 175s - loss: 0.0092 - val_loss: 0.0126\n"
     ]
    }
   ],
   "source": [
    "model.compile(loss=\"mse\",optimizer=\"adam\")\n",
    "model.fit(X_train, y_train, validation_split=0.2,shuffle=True, nb_epoch=5)\n",
    "model.save('CarND-Behavioral-Cloning-P3/model.h5')\n",
    "exit()"
   ]
  },
  {
   "cell_type": "code",
   "execution_count": null,
   "metadata": {},
   "outputs": [],
   "source": [
    "pixel_normalized = pixel / 255\n",
    "\n",
    "pixel_mean_centered = pixel_normalized - 0.5"
   ]
  },
  {
   "cell_type": "code",
   "execution_count": null,
   "metadata": {},
   "outputs": [],
   "source": []
  }
 ],
 "metadata": {
  "kernelspec": {
   "display_name": "Python 3",
   "language": "python",
   "name": "python3"
  },
  "language_info": {
   "codemirror_mode": {
    "name": "ipython",
    "version": 3
   },
   "file_extension": ".py",
   "mimetype": "text/x-python",
   "name": "python",
   "nbconvert_exporter": "python",
   "pygments_lexer": "ipython3",
   "version": "3.5.2"
  },
  "widgets": {
   "state": {},
   "version": "1.1.2"
  }
 },
 "nbformat": 4,
 "nbformat_minor": 2
}
